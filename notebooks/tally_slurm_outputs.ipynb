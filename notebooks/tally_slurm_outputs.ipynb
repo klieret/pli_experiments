{
 "cells": [
  {
   "cell_type": "markdown",
   "metadata": {},
   "source": [
    "# Tally slurm total GPU hours for an account\n",
    "\n",
    "This assumes that you have run\n",
    "\n",
    "```bash\n",
    "sacct -A pli --format=JobID,Account,AllocTRES%30,Elapsed  --allusers --json > sacct_pli.json    \n",
    "```\n",
    "\n",
    "on the server, printing out all jobs for the `pli` account."
   ]
  },
  {
   "cell_type": "code",
   "execution_count": 27,
   "metadata": {},
   "outputs": [],
   "source": [
    "import json\n",
    "from pathlib import Path\n",
    "from datetime import timedelta"
   ]
  },
  {
   "cell_type": "code",
   "execution_count": 8,
   "metadata": {},
   "outputs": [],
   "source": [
    "json_data = Path(\"..\", 'data',  'sacct_pli.json')\n",
    "\n",
    "assert json_data.exists()"
   ]
  },
  {
   "cell_type": "code",
   "execution_count": 10,
   "metadata": {},
   "outputs": [],
   "source": [
    "data = json.loads(json_data.read_text())"
   ]
  },
  {
   "cell_type": "code",
   "execution_count": 35,
   "metadata": {},
   "outputs": [],
   "source": [
    "def get_n_gpus(job_data: dict) -> int:\n",
    "    n_gpus = 0\n",
    "    for allocation in job_data[\"tres\"][\"allocated\"]:\n",
    "        if allocation[\"type\"] == \"gres\" and allocation[\"name\"] == \"gpu\":\n",
    "            n_gpus += int(allocation[\"count\"])\n",
    "    return n_gpus\n",
    "\n",
    "def get_total_run_time(job_data: dict) -> timedelta:\n",
    "    seconds = job_data[\"time\"][\"elapsed\"]\n",
    "    return timedelta(seconds=seconds)"
   ]
  },
  {
   "cell_type": "code",
   "execution_count": 33,
   "metadata": {},
   "outputs": [],
   "source": [
    "total_gpu_time = timedelta(seconds=0)\n",
    "for job in data[\"jobs\"]:\n",
    "    total_gpu_time += get_n_gpus(job) * get_total_run_time(job)"
   ]
  },
  {
   "cell_type": "code",
   "execution_count": 34,
   "metadata": {},
   "outputs": [
    {
     "data": {
      "text/plain": [
       "datetime.timedelta(days=39, seconds=78792)"
      ]
     },
     "execution_count": 34,
     "metadata": {},
     "output_type": "execute_result"
    }
   ],
   "source": [
    "total_gpu_time"
   ]
  }
 ],
 "metadata": {
  "kernelspec": {
   "display_name": "Python 3",
   "language": "python",
   "name": "python3"
  },
  "language_info": {
   "codemirror_mode": {
    "name": "ipython",
    "version": 3
   },
   "file_extension": ".py",
   "mimetype": "text/x-python",
   "name": "python",
   "nbconvert_exporter": "python",
   "pygments_lexer": "ipython3",
   "version": "3.12.0"
  }
 },
 "nbformat": 4,
 "nbformat_minor": 2
}
