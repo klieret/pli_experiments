{
 "cells": [
  {
   "cell_type": "markdown",
   "metadata": {},
   "source": [
    "# Tally slurm total GPU hours for an account\n",
    "\n",
    "This assumes that you have run\n",
    "\n",
    "```bash\n",
    "sacct -p pli-c --allusers --json > sacct_pli.json    \n",
    "sacct -p pli --allusers --json > sacct_other.json    \n",
    "```\n",
    "\n",
    "on the server, printing out all jobs for the `pli` account.\n",
    "\n",
    "Or for a larger time window, add `-S 2024-01-01 `"
   ]
  },
  {
   "cell_type": "code",
   "execution_count": 18,
   "metadata": {},
   "outputs": [
    {
     "name": "stdout",
     "output_type": "stream",
     "text": [
      "The autoreload extension is already loaded. To reload it, use:\n",
      "  %reload_ext autoreload\n"
     ]
    }
   ],
   "source": [
    "%load_ext autoreload\n",
    "%autoreload 2\n",
    "\n",
    "import json\n",
    "from pathlib import Path\n",
    "from pandas import DataFrame as DF\n",
    "from slurm_analyzer import SLURMAnalyzer\n",
    "import pandas as pd\n",
    "from datetime import datetime\n",
    "import tabulate"
   ]
  },
  {
   "cell_type": "code",
   "execution_count": 19,
   "metadata": {},
   "outputs": [],
   "source": [
    "dpath = Path(\"..\", 'data')\n",
    "assert dpath.is_dir()\n"
   ]
  },
  {
   "cell_type": "code",
   "execution_count": 20,
   "metadata": {},
   "outputs": [],
   "source": [
    "df = pd.concat([\n",
    "    SLURMAnalyzer().parse(json.loads((dpath / \"pli_7.json\").read_text())),\n",
    "    SLURMAnalyzer().parse(json.loads((dpath / \"pli_c_7.json\").read_text()))\n",
    "])"
   ]
  },
  {
   "cell_type": "code",
   "execution_count": 21,
   "metadata": {},
   "outputs": [],
   "source": [
    "# clean\n",
    "# remove strange values (negative wait times etc.) by requiring that jobs run at least 10 min\n",
    "df = df.query(\"elapsed > 600\")"
   ]
  },
  {
   "cell_type": "code",
   "execution_count": 22,
   "metadata": {},
   "outputs": [],
   "source": [
    "def by_time(df, title=\"\"):\n",
    "    tab = []\n",
    "\n",
    "    def add(label, query):\n",
    "        sdf = df.query(query)\n",
    "        tab.append((label, sdf.wait_time_h.mean(), len(sdf)))\n",
    "    \n",
    "    add(\"Last 7 days\", \"age_days <= 7\")\n",
    "    add(\"Last 30 days\", \"age_days <= 30\")\n",
    "    add(\"Last 60 days\", \"age_days <= 60\")\n",
    "\n",
    "    if title:\n",
    "        print(title)\n",
    "    print(tabulate.tabulate(tab, headers=[\"Period\", \"Wait time (h)\", \"Jobs\"]))\n"
   ]
  },
  {
   "cell_type": "markdown",
   "metadata": {},
   "source": [
    "# Core partition"
   ]
  },
  {
   "cell_type": "markdown",
   "metadata": {},
   "source": [
    "## Large jobs "
   ]
  },
  {
   "cell_type": "code",
   "execution_count": 23,
   "metadata": {},
   "outputs": [
    {
     "name": "stdout",
     "output_type": "stream",
     "text": [
      ">= 1 nodes, >= 24h runtime\n",
      "Period          Wait time (h)    Jobs\n",
      "------------  ---------------  ------\n",
      "Last 7 days           5.10251      61\n",
      "Last 30 days          4.65745     154\n",
      "Last 60 days          7.12816     443\n",
      "\n",
      ">= 2 nodes, >= 24h runtime\n",
      "Period          Wait time (h)    Jobs\n",
      "------------  ---------------  ------\n",
      "Last 7 days           17.2819      15\n",
      "Last 30 days          14.4519      46\n",
      "Last 60 days          19.0333     109\n",
      "\n",
      ">= 4 nodes, >= 24h runtime\n",
      "Period          Wait time (h)    Jobs\n",
      "------------  ---------------  ------\n",
      "Last 7 days        0.00486111       2\n",
      "Last 30 days      12.1466          21\n",
      "Last 60 days       8.69215         37\n",
      "\n"
     ]
    }
   ],
   "source": [
    "for nodes in [1, 2, 4]:\n",
    "    by_time(df.query(f\"partition == 'pli-c' and {nodes} <= n_nodes and elapsed_h > 24\"), f\">= {nodes} nodes, >= 24h runtime\")\n",
    "    print()"
   ]
  },
  {
   "cell_type": "markdown",
   "metadata": {},
   "source": [
    "## Smaller jobs"
   ]
  },
  {
   "cell_type": "code",
   "execution_count": 24,
   "metadata": {},
   "outputs": [
    {
     "name": "stdout",
     "output_type": "stream",
     "text": [
      "<= 1 GPU hours\n",
      "Period          Wait time (h)    Jobs\n",
      "------------  ---------------  ------\n",
      "Last 7 days           2.90843     794\n",
      "Last 30 days          9.07535    7444\n",
      "Last 60 days          9.86872   13412\n",
      "\n",
      "<= 10 GPU hours\n",
      "Period          Wait time (h)    Jobs\n",
      "------------  ---------------  ------\n",
      "Last 7 days           7.33164     248\n",
      "Last 30 days          4.45846    1006\n",
      "Last 60 days          4.30354    1962\n",
      "\n",
      "<= 24 GPU hours\n",
      "Period          Wait time (h)    Jobs\n",
      "------------  ---------------  ------\n",
      "Last 7 days           7.4221      149\n",
      "Last 30 days          5.98635     544\n",
      "Last 60 days          5.79894    1083\n",
      "\n"
     ]
    }
   ],
   "source": [
    "for t in [1, 10, 24]:\n",
    "    by_time(df.query(f\"partition == 'pli-c' and gpu_time_h >= {t}\"), f\"<= {t} GPU hours\")\n",
    "    print()"
   ]
  },
  {
   "cell_type": "markdown",
   "metadata": {},
   "source": [
    "# Campus partition"
   ]
  },
  {
   "cell_type": "code",
   "execution_count": 25,
   "metadata": {},
   "outputs": [
    {
     "name": "stdout",
     "output_type": "stream",
     "text": [
      "<= 1 GPU hours\n",
      "Period          Wait time (h)    Jobs\n",
      "------------  ---------------  ------\n",
      "Last 7 days          0.524585     201\n",
      "Last 30 days         1.16109     1870\n",
      "Last 60 days         1.72412     3033\n",
      "\n",
      "<= 10 GPU hours\n",
      "Period          Wait time (h)    Jobs\n",
      "------------  ---------------  ------\n",
      "Last 7 days          0.563236      91\n",
      "Last 30 days         1.64013      295\n",
      "Last 60 days         2.74021      547\n",
      "\n",
      "<= 24 GPU hours\n",
      "Period          Wait time (h)    Jobs\n",
      "------------  ---------------  ------\n",
      "Last 7 days         0.0486792      53\n",
      "Last 30 days        2.19757       171\n",
      "Last 60 days        3.52922       260\n",
      "\n"
     ]
    }
   ],
   "source": [
    "for t in [1, 10, 24]:\n",
    "    by_time(df.query(f\"partition == 'pli' and gpu_time_h >= {t}\"), f\"<= {t} GPU hours\")\n",
    "    print()"
   ]
  },
  {
   "cell_type": "code",
   "execution_count": null,
   "metadata": {},
   "outputs": [],
   "source": []
  }
 ],
 "metadata": {
  "kernelspec": {
   "display_name": "Python 3",
   "language": "python",
   "name": "python3"
  },
  "language_info": {
   "codemirror_mode": {
    "name": "ipython",
    "version": 3
   },
   "file_extension": ".py",
   "mimetype": "text/x-python",
   "name": "python",
   "nbconvert_exporter": "python",
   "pygments_lexer": "ipython3",
   "version": "3.12.5"
  }
 },
 "nbformat": 4,
 "nbformat_minor": 2
}
