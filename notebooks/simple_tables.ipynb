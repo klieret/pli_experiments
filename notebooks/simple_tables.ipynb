{
 "cells": [
  {
   "cell_type": "markdown",
   "metadata": {},
   "source": [
    "# Tally slurm total GPU hours for an account\n",
    "\n",
    "This assumes that you have run\n",
    "\n",
    "```bash\n",
    "sacct -p pli-c --allusers --json > sacct_pli.json    \n",
    "sacct -p pli --allusers --json > sacct_other.json    \n",
    "```\n",
    "\n",
    "on the server, printing out all jobs for the `pli` account.\n",
    "\n",
    "Or for a larger time window, add `-S 2024-01-01 `"
   ]
  },
  {
   "cell_type": "code",
   "execution_count": 1,
   "metadata": {},
   "outputs": [],
   "source": [
    "%load_ext autoreload\n",
    "%autoreload 2\n",
    "\n",
    "import json\n",
    "from pathlib import Path\n",
    "from pandas import DataFrame as DF\n",
    "from slurm_analyzer import SLURMAnalyzer\n",
    "import pandas as pd\n",
    "from datetime import datetime\n",
    "import tabulate"
   ]
  },
  {
   "cell_type": "code",
   "execution_count": 2,
   "metadata": {},
   "outputs": [],
   "source": [
    "dpath = Path(\"..\", 'data')\n",
    "assert dpath.is_dir()\n"
   ]
  },
  {
   "cell_type": "code",
   "execution_count": 3,
   "metadata": {},
   "outputs": [
    {
     "name": "stdout",
     "output_type": "stream",
     "text": [
      "Filtered 4017 jobs (14%) with no gpus\n",
      "Filtered 9371 jobs (36%) with < 10min run time\n",
      "Filtered 9402 jobs (13%) with no gpus\n",
      "Filtered 21691 jobs (34%) with < 10min run time\n"
     ]
    }
   ],
   "source": [
    "df = pd.concat([\n",
    "    SLURMAnalyzer().parse(json.loads((dpath / \"pli_1.json\").read_text())),\n",
    "    SLURMAnalyzer().parse(json.loads((dpath / \"pli_c_1.json\").read_text()))\n",
    "])"
   ]
  },
  {
   "cell_type": "code",
   "execution_count": 17,
   "metadata": {},
   "outputs": [],
   "source": [
    "def by_time(df, title=\"\"):\n",
    "    tab = []\n",
    "\n",
    "    def add(label, query):\n",
    "        sdf = df.query(query)\n",
    "        tab.append((label, sdf.wait_time_h.mean(), len(sdf.query(\"wait_time_h > 24\")), len(sdf)))\n",
    "    \n",
    "    add(\"Last 7 days\", \"age_days <= 7\")\n",
    "    add(\"Last 30 days\", \"age_days <= 30\")\n",
    "    add(\"Last 60 days\", \"age_days <= 60\")\n",
    "    add(\"Last 90 days\", \"age_days <= 90\")\n",
    "    add(\"Forever\", \"age_days > 0\")\n",
    "\n",
    "    if title:\n",
    "        print(title)\n",
    "    print(tabulate.tabulate(tab, headers=[\"Period\", \"Avg. wait (h)\", \"jobs with wait > 24h\", \"Jobs\"]))\n"
   ]
  },
  {
   "cell_type": "markdown",
   "metadata": {},
   "source": [
    "# Core partition"
   ]
  },
  {
   "cell_type": "markdown",
   "metadata": {},
   "source": [
    "## Large jobs \n",
    "\n",
    "Use 23h as cutoff point because many jobs are set to terminate after 24h, so we want to avoid that edge."
   ]
  },
  {
   "cell_type": "code",
   "execution_count": 21,
   "metadata": {},
   "outputs": [
    {
     "name": "stdout",
     "output_type": "stream",
     "text": [
      ">= 1 nodes, >= 23h runtime\n",
      "Period          Avg. wait (h)    jobs with wait > 24h    Jobs\n",
      "------------  ---------------  ----------------------  ------\n",
      "Last 7 days           5.04036                       5      64\n",
      "Last 30 days          7.7441                       18     183\n",
      "Last 60 days          8.10278                      34     491\n",
      "Last 90 days          3.54143                      39    1782\n",
      "Forever               4.76086                      71    2265\n",
      "\n",
      ">= 2 nodes, >= 23h runtime\n",
      "Period          Avg. wait (h)    jobs with wait > 24h    Jobs\n",
      "------------  ---------------  ----------------------  ------\n",
      "Last 7 days        0.00361111                       0       3\n",
      "Last 30 days      21.3888                          10      44\n",
      "Last 60 days      15.5377                          11      72\n",
      "Last 90 days      15.3882                          12      76\n",
      "Forever           34.8961                          22     101\n",
      "\n",
      ">= 4 nodes, >= 23h runtime\n",
      "Period          Avg. wait (h)    jobs with wait > 24h    Jobs\n",
      "------------  ---------------  ----------------------  ------\n",
      "Last 7 days        0.00361111                       0       3\n",
      "Last 30 days      21.8862                          10      43\n",
      "Last 60 days      16.5783                          11      65\n",
      "Last 90 days      16.3534                          12      69\n",
      "Forever           38.8685                          21      89\n",
      "\n"
     ]
    }
   ],
   "source": [
    "for nodes in [1, 2, 4]:\n",
    "    by_time(df.query(f\"partition == 'pli-c' and allocation_nodes >= {nodes} and elapsed_h > 23\"), f\">= {nodes} nodes, >= 23h runtime\")\n",
    "    print()"
   ]
  },
  {
   "cell_type": "markdown",
   "metadata": {},
   "source": [
    "## Smaller jobs"
   ]
  },
  {
   "cell_type": "code",
   "execution_count": 19,
   "metadata": {},
   "outputs": [
    {
     "name": "stdout",
     "output_type": "stream",
     "text": [
      "<= 1 GPU hours\n",
      "Period          Avg. wait (h)    jobs with wait > 24h    Jobs\n",
      "------------  ---------------  ----------------------  ------\n",
      "Last 7 days           3.00042                      38     802\n",
      "Last 30 days          9.0763                      930    7454\n",
      "Last 60 days          9.86712                    2092   13427\n",
      "Last 90 days          7.26785                    2126   19973\n",
      "Forever               5.36976                    2184   29352\n",
      "\n",
      "<= 10 GPU hours\n",
      "Period          Avg. wait (h)    jobs with wait > 24h    Jobs\n",
      "------------  ---------------  ----------------------  ------\n",
      "Last 7 days           7.54671                      37     256\n",
      "Last 30 days          4.53623                      69    1014\n",
      "Last 60 days          4.33863                      95    1973\n",
      "Last 90 days          3.47459                     129    4599\n",
      "Forever               3.20377                     187    7928\n",
      "\n",
      "<= 24 GPU hours\n",
      "Period          Avg. wait (h)    jobs with wait > 24h    Jobs\n",
      "------------  ---------------  ----------------------  ------\n",
      "Last 7 days           7.80237                      25     162\n",
      "Last 30 days          6.12095                      48     558\n",
      "Last 60 days          5.85565                      69    1100\n",
      "Last 90 days          4.13037                      98    2672\n",
      "Forever               4.38752                     144    4165\n",
      "\n"
     ]
    }
   ],
   "source": [
    "for t in [1, 10, 24]:\n",
    "    by_time(df.query(f\"partition == 'pli-c' and gpu_time_h >= {t}\"), f\"<= {t} GPU hours\")\n",
    "    print()"
   ]
  },
  {
   "cell_type": "markdown",
   "metadata": {},
   "source": [
    "# Campus partition"
   ]
  },
  {
   "cell_type": "code",
   "execution_count": 20,
   "metadata": {},
   "outputs": [
    {
     "name": "stdout",
     "output_type": "stream",
     "text": [
      "<= 1 GPU hours\n",
      "Period          Avg. wait (h)    jobs with wait > 24h    Jobs\n",
      "------------  ---------------  ----------------------  ------\n",
      "Last 7 days          0.634233                       0     212\n",
      "Last 30 days         1.17159                        3    1878\n",
      "Last 60 days         1.75922                       10    3049\n",
      "Last 90 days         2.476                         88    4360\n",
      "Forever              2.44454                      175    9928\n",
      "\n",
      "<= 10 GPU hours\n",
      "Period          Avg. wait (h)    jobs with wait > 24h    Jobs\n",
      "------------  ---------------  ----------------------  ------\n",
      "Last 7 days          0.539725                       0      95\n",
      "Last 30 days         1.63462                        3     296\n",
      "Last 60 days         2.77335                       10     551\n",
      "Last 90 days         4.32858                       56     947\n",
      "Forever              4.00865                      122    2471\n",
      "\n",
      "<= 24 GPU hours\n",
      "Period          Avg. wait (h)    jobs with wait > 24h    Jobs\n",
      "------------  ---------------  ----------------------  ------\n",
      "Last 7 days         0.0462996                       0      56\n",
      "Last 30 days        2.19757                         2     171\n",
      "Last 60 days        3.52922                         7     260\n",
      "Last 90 days        4.27574                        20     411\n",
      "Forever             4.52883                        67    1326\n",
      "\n"
     ]
    }
   ],
   "source": [
    "for t in [1, 10, 24]:\n",
    "    by_time(df.query(f\"partition == 'pli' and gpu_time_h >= {t}\"), f\"<= {t} GPU hours\")\n",
    "    print()"
   ]
  },
  {
   "cell_type": "code",
   "execution_count": null,
   "metadata": {},
   "outputs": [],
   "source": []
  },
  {
   "cell_type": "code",
   "execution_count": null,
   "metadata": {},
   "outputs": [],
   "source": []
  }
 ],
 "metadata": {
  "kernelspec": {
   "display_name": "Python 3 (ipykernel)",
   "language": "python",
   "name": "python3"
  },
  "language_info": {
   "codemirror_mode": {
    "name": "ipython",
    "version": 3
   },
   "file_extension": ".py",
   "mimetype": "text/x-python",
   "name": "python",
   "nbconvert_exporter": "python",
   "pygments_lexer": "ipython3",
   "version": "3.10.11"
  }
 },
 "nbformat": 4,
 "nbformat_minor": 4
}
