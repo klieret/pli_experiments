{
 "cells": [
  {
   "cell_type": "markdown",
   "metadata": {},
   "source": [
    "# Tally slurm total GPU hours for an account\n",
    "\n",
    "This assumes that you have run\n",
    "\n",
    "```bash\n",
    "sacct -A pli --format=JobID,Account,AllocTRES%30,Elapsed  --allusers --json > sacct_pli.json    \n",
    "```\n",
    "\n",
    "on the server, printing out all jobs for the `pli` account."
   ]
  },
  {
   "cell_type": "code",
   "execution_count": 113,
   "metadata": {},
   "outputs": [],
   "source": [
    "import json\n",
    "from pathlib import Path\n",
    "import numpy as np\n",
    "from pandas import DataFrame as DF\n",
    "import pandas as pd"
   ]
  },
  {
   "cell_type": "code",
   "execution_count": 114,
   "metadata": {},
   "outputs": [],
   "source": [
    "json_data = Path(\"..\", 'data',  'sacct_pli.json')\n",
    "\n",
    "assert json_data.exists()"
   ]
  },
  {
   "cell_type": "code",
   "execution_count": 115,
   "metadata": {},
   "outputs": [],
   "source": [
    "data = json.loads(json_data.read_text())"
   ]
  },
  {
   "cell_type": "code",
   "execution_count": 116,
   "metadata": {},
   "outputs": [],
   "source": [
    "class Parser:\n",
    "    def parse(self, data: dict) -> DF:\n",
    "        records = []\n",
    "        for job in data[\"jobs\"]:\n",
    "            n_gpus = self._get_n_gpus(job)\n",
    "            records.append({\n",
    "                \"n_gpus\": n_gpus,\n",
    "                \"elapsed\": job[\"time\"][\"elapsed\"],\n",
    "                \"start_time\": job[\"time\"][\"start\"],\n",
    "            })\n",
    "        df = pd.DataFrame.from_records(records)\n",
    "        self._augment_df(df)\n",
    "        return df\n",
    "\n",
    "\n",
    "    @staticmethod \n",
    "    def _get_n_gpus(job_data: dict) -> int:\n",
    "        n_gpus = 0\n",
    "        for allocation in job_data[\"tres\"][\"allocated\"]:\n",
    "            if allocation[\"type\"] == \"gres\" and allocation[\"name\"] == \"gpu\":\n",
    "                n_gpus += int(allocation[\"count\"])\n",
    "        return n_gpus\n",
    "    \n",
    "    @staticmethod\n",
    "    def _augment_df(df: DF) -> None:\n",
    "        df[\"gpu_time\"] = df[\"n_gpus\"] * df[\"elapsed\"]\n",
    "        df['start_time'] = pd.to_datetime(df['start_time'], unit='s')\n",
    "   "
   ]
  },
  {
   "cell_type": "code",
   "execution_count": 117,
   "metadata": {},
   "outputs": [],
   "source": [
    "df = Parser().parse(data)"
   ]
  },
  {
   "cell_type": "code",
   "execution_count": 118,
   "metadata": {},
   "outputs": [
    {
     "data": {
      "text/html": [
       "<div>\n",
       "<style scoped>\n",
       "    .dataframe tbody tr th:only-of-type {\n",
       "        vertical-align: middle;\n",
       "    }\n",
       "\n",
       "    .dataframe tbody tr th {\n",
       "        vertical-align: top;\n",
       "    }\n",
       "\n",
       "    .dataframe thead th {\n",
       "        text-align: right;\n",
       "    }\n",
       "</style>\n",
       "<table border=\"1\" class=\"dataframe\">\n",
       "  <thead>\n",
       "    <tr style=\"text-align: right;\">\n",
       "      <th></th>\n",
       "      <th>n_gpus</th>\n",
       "      <th>elapsed</th>\n",
       "      <th>start_time</th>\n",
       "      <th>gpu_time</th>\n",
       "    </tr>\n",
       "  </thead>\n",
       "  <tbody>\n",
       "    <tr>\n",
       "      <th>0</th>\n",
       "      <td>1</td>\n",
       "      <td>4</td>\n",
       "      <td>2024-01-18 20:38:41</td>\n",
       "      <td>4</td>\n",
       "    </tr>\n",
       "    <tr>\n",
       "      <th>1</th>\n",
       "      <td>1</td>\n",
       "      <td>40</td>\n",
       "      <td>2024-01-18 20:51:45</td>\n",
       "      <td>40</td>\n",
       "    </tr>\n",
       "    <tr>\n",
       "      <th>2</th>\n",
       "      <td>4</td>\n",
       "      <td>4017</td>\n",
       "      <td>2024-01-18 21:02:40</td>\n",
       "      <td>16068</td>\n",
       "    </tr>\n",
       "    <tr>\n",
       "      <th>3</th>\n",
       "      <td>1</td>\n",
       "      <td>13</td>\n",
       "      <td>2024-01-18 22:09:33</td>\n",
       "      <td>13</td>\n",
       "    </tr>\n",
       "    <tr>\n",
       "      <th>4</th>\n",
       "      <td>4</td>\n",
       "      <td>4219</td>\n",
       "      <td>2024-01-18 22:11:01</td>\n",
       "      <td>16876</td>\n",
       "    </tr>\n",
       "    <tr>\n",
       "      <th>...</th>\n",
       "      <td>...</td>\n",
       "      <td>...</td>\n",
       "      <td>...</td>\n",
       "      <td>...</td>\n",
       "    </tr>\n",
       "    <tr>\n",
       "      <th>2551</th>\n",
       "      <td>0</td>\n",
       "      <td>0</td>\n",
       "      <td>2106-02-07 06:28:14</td>\n",
       "      <td>0</td>\n",
       "    </tr>\n",
       "    <tr>\n",
       "      <th>2552</th>\n",
       "      <td>0</td>\n",
       "      <td>0</td>\n",
       "      <td>2106-02-07 06:28:14</td>\n",
       "      <td>0</td>\n",
       "    </tr>\n",
       "    <tr>\n",
       "      <th>2553</th>\n",
       "      <td>0</td>\n",
       "      <td>0</td>\n",
       "      <td>2106-02-07 06:28:14</td>\n",
       "      <td>0</td>\n",
       "    </tr>\n",
       "    <tr>\n",
       "      <th>2554</th>\n",
       "      <td>0</td>\n",
       "      <td>0</td>\n",
       "      <td>2106-02-07 06:28:14</td>\n",
       "      <td>0</td>\n",
       "    </tr>\n",
       "    <tr>\n",
       "      <th>2555</th>\n",
       "      <td>4</td>\n",
       "      <td>6</td>\n",
       "      <td>2024-03-11 23:06:40</td>\n",
       "      <td>24</td>\n",
       "    </tr>\n",
       "  </tbody>\n",
       "</table>\n",
       "<p>2556 rows × 4 columns</p>\n",
       "</div>"
      ],
      "text/plain": [
       "      n_gpus  elapsed          start_time  gpu_time\n",
       "0          1        4 2024-01-18 20:38:41         4\n",
       "1          1       40 2024-01-18 20:51:45        40\n",
       "2          4     4017 2024-01-18 21:02:40     16068\n",
       "3          1       13 2024-01-18 22:09:33        13\n",
       "4          4     4219 2024-01-18 22:11:01     16876\n",
       "...      ...      ...                 ...       ...\n",
       "2551       0        0 2106-02-07 06:28:14         0\n",
       "2552       0        0 2106-02-07 06:28:14         0\n",
       "2553       0        0 2106-02-07 06:28:14         0\n",
       "2554       0        0 2106-02-07 06:28:14         0\n",
       "2555       4        6 2024-03-11 23:06:40        24\n",
       "\n",
       "[2556 rows x 4 columns]"
      ]
     },
     "execution_count": 118,
     "metadata": {},
     "output_type": "execute_result"
    }
   ],
   "source": [
    "df"
   ]
  },
  {
   "cell_type": "code",
   "execution_count": 119,
   "metadata": {},
   "outputs": [
    {
     "data": {
      "text/plain": [
       "Text(0.5, 0, 'GPU hours [h]')"
      ]
     },
     "execution_count": 119,
     "metadata": {},
     "output_type": "execute_result"
    },
    {
     "data": {
      "image/png": "[encoded data removed]",
      "text/plain": [
       "<Figure size 640x480 with 1 Axes>"
      ]
     },
     "metadata": {},
     "output_type": "display_data"
    }
   ],
   "source": [
    "from matplotlib import pyplot as plt\n",
    "\n",
    "\n",
    "fig, ax = plt.subplots()\n",
    "ax.hist((df[df[\"n_gpus\"] > 0])[\"gpu_time\"] / 3600, bins=np.linspace(0, 400, 20), )\n",
    "ax.set_xlabel(\"GPU hours [h]\")"
   ]
  },
  {
   "cell_type": "code",
   "execution_count": null,
   "metadata": {},
   "outputs": [],
   "source": []
  }
 ],
 "metadata": {
  "kernelspec": {
   "display_name": "Python 3",
   "language": "python",
   "name": "python3"
  },
  "language_info": {
   "codemirror_mode": {
    "name": "ipython",
    "version": 3
   },
   "file_extension": ".py",
   "mimetype": "text/x-python",
   "name": "python",
   "nbconvert_exporter": "python",
   "pygments_lexer": "ipython3",
   "version": "3.12.0"
  }
 },
 "nbformat": 4,
 "nbformat_minor": 2
}
